{
 "cells": [
  {
   "cell_type": "markdown",
   "metadata": {},
   "source": [
    "# Lab 03 - Numpy Intro"
   ]
  },
  {
   "cell_type": "code",
   "execution_count": null,
   "metadata": {
    "collapsed": false
   },
   "outputs": [],
   "source": [
    "# If you don't have seaborn package, install it via conda or pip from command line"
   ]
  },
  {
   "cell_type": "code",
   "execution_count": null,
   "metadata": {
    "collapsed": false
   },
   "outputs": [],
   "source": [
    "# Standard imports for data analysis packages in Python\n",
    "import pandas as pd\n",
    "import numpy as np\n",
    "import matplotlib.pyplot as plt\n",
    "import seaborn as sns\n",
    "\n",
    "# This enables inline Plots\n",
    "%matplotlib inline\n",
    "\n",
    "# Limit rows displayed in notebook - This is just my setup. We will talk more about Pandas next week\n",
    "pd.set_option('display.max_rows', 10)\n",
    "pd.set_option('display.precision', 2)"
   ]
  },
  {
   "cell_type": "code",
   "execution_count": null,
   "metadata": {
    "collapsed": false
   },
   "outputs": [],
   "source": [
    "print 'Pandas Version: ', pd.__version__\n",
    "print 'Numpy Version: ', np.__version__"
   ]
  },
  {
   "cell_type": "markdown",
   "metadata": {},
   "source": [
    "## Numpy\n",
    "\n",
    "* Pandas is built on top of Numpy.  Each Column in a Pandas DataFrame is a Numpy Array\n",
    "* Plotting functions (matplotlib) needs Numpy Arrays as input\n",
    "* Scikit-Learn needs Numpy Array as Input for Features and Lables and building Models\n",
    "\n",
    "Let's do a overview of Numpy Data Structures and Functions.\n",
    "\n",
    "### Data Strcutres\n",
    "\n",
    "* Arrays\n",
    "* Matrices"
   ]
  },
  {
   "cell_type": "markdown",
   "metadata": {},
   "source": [
    "#### Arrays"
   ]
  },
  {
   "cell_type": "code",
   "execution_count": null,
   "metadata": {
    "collapsed": false
   },
   "outputs": [],
   "source": [
    "# One Dimensional Array\n",
    "arr1 = np.array([1, 2, 3, 4, 5, 6])\n",
    "print 'Shape of Array: ', arr1.shape\n",
    "print 'Type of object: ', type(arr1)\n",
    "print 'Type of contents: ', arr1.dtype\n",
    "print 'Size (elements): ', arr1.size\n",
    "print 'ndim (number of dim): ', arr1.ndim\n",
    "print arr1"
   ]
  },
  {
   "cell_type": "code",
   "execution_count": null,
   "metadata": {
    "collapsed": false
   },
   "outputs": [],
   "source": [
    "# Selecting elements from array (Slicing)\n",
    "arr1[1]"
   ]
  },
  {
   "cell_type": "code",
   "execution_count": null,
   "metadata": {
    "collapsed": false
   },
   "outputs": [],
   "source": [
    "# Selecting a range - notice that it starts at lower limit upto the upper limt (not including).  Same behavior as Python list\n",
    "arr1[1:3]"
   ]
  },
  {
   "cell_type": "markdown",
   "metadata": {},
   "source": [
    "#### Assigning Values"
   ]
  },
  {
   "cell_type": "code",
   "execution_count": null,
   "metadata": {
    "collapsed": false
   },
   "outputs": [],
   "source": [
    "# You can assign values individually\n",
    "arr1[0] = 10\n",
    "arr1"
   ]
  },
  {
   "cell_type": "code",
   "execution_count": null,
   "metadata": {
    "collapsed": false
   },
   "outputs": [],
   "source": [
    "# Or Assign a indivual value to a range\n",
    "arr1[1:] = 20  # Start at 1st element till END\n",
    "arr1"
   ]
  },
  {
   "cell_type": "code",
   "execution_count": null,
   "metadata": {
    "collapsed": false
   },
   "outputs": [],
   "source": [
    "# Two Dimensional Array\n",
    "arr2 = np.array([[1, 2, 3], [4, 5, 6]])\n",
    "print 'Shape of Array: ', arr2.shape\n",
    "print 'Type of object: ', type(arr2)\n",
    "print 'Type of contents: ', arr2.dtype\n",
    "print 'Size (elements): ', arr2.size\n",
    "print 'ndim (number of dim): ', arr2.ndim\n",
    "print arr2"
   ]
  },
  {
   "cell_type": "code",
   "execution_count": null,
   "metadata": {
    "collapsed": false
   },
   "outputs": [],
   "source": [
    "# Reshape One-D to Two-D Array\n",
    "arr1.reshape(2, 3)"
   ]
  },
  {
   "cell_type": "code",
   "execution_count": null,
   "metadata": {
    "collapsed": false
   },
   "outputs": [],
   "source": [
    "arr1.reshape((3, 2))"
   ]
  },
  {
   "cell_type": "code",
   "execution_count": null,
   "metadata": {
    "collapsed": false
   },
   "outputs": [],
   "source": [
    "arr1"
   ]
  },
  {
   "cell_type": "code",
   "execution_count": null,
   "metadata": {
    "collapsed": false
   },
   "outputs": [],
   "source": [
    "arr1.reshape((:,))"
   ]
  },
  {
   "cell_type": "code",
   "execution_count": null,
   "metadata": {
    "collapsed": false
   },
   "outputs": [],
   "source": [
    "# When you add a scalar to an array, it adds it to each element in the array.\n",
    "# This is called broadcasting\n",
    "arr1 + 5"
   ]
  },
  {
   "cell_type": "code",
   "execution_count": null,
   "metadata": {
    "collapsed": false
   },
   "outputs": [],
   "source": [
    "# Same thing with other operators on Scalar.  All operations broadcast to each element\n",
    "arr1 * 5"
   ]
  },
  {
   "cell_type": "code",
   "execution_count": null,
   "metadata": {
    "collapsed": false
   },
   "outputs": [],
   "source": [
    "# It works on 2-D Arrays too\n",
    "arr2 * 10"
   ]
  },
  {
   "cell_type": "code",
   "execution_count": null,
   "metadata": {
    "collapsed": false
   },
   "outputs": [],
   "source": [
    "# Now, lets add two Numpy Arrays\n",
    "arr1 = np.array([1, 2, 3])\n",
    "arr2 = np.array([4, 5, 6])\n",
    "\n",
    "arr1 + arr2"
   ]
  },
  {
   "cell_type": "code",
   "execution_count": null,
   "metadata": {
    "collapsed": false
   },
   "outputs": [],
   "source": [
    "# Multiply Two Numpy Arrays\n",
    "arr1 * arr2"
   ]
  },
  {
   "cell_type": "markdown",
   "metadata": {},
   "source": [
    "Main Idea: ALL Numpy Operations are element-wise operations.\n",
    "\n",
    "* Adding to Numpy Arrays, results in does element-wise addition\n",
    "* Multiplying two Arrays, results in element-wise multiplication"
   ]
  },
  {
   "cell_type": "markdown",
   "metadata": {},
   "source": [
    "#### Exercise 1:  Now do this on Python List.  Do you see any difference\n",
    "\n",
    "* Add two Python lists\n",
    "* Multiple two Python lists\n",
    "* Add a scalar to a Python list\n",
    "* Multiply a Scalar to Python list"
   ]
  },
  {
   "cell_type": "code",
   "execution_count": null,
   "metadata": {
    "collapsed": false
   },
   "outputs": [],
   "source": [
    "seq1 = [1, 2, 3]\n",
    "seq2 = [4, 5, 6]"
   ]
  },
  {
   "cell_type": "code",
   "execution_count": null,
   "metadata": {
    "collapsed": false
   },
   "outputs": [],
   "source": [
    "# Add two Python lists\n",
    "# your code here"
   ]
  },
  {
   "cell_type": "code",
   "execution_count": null,
   "metadata": {
    "collapsed": false
   },
   "outputs": [],
   "source": [
    "# Multiply two Python lists\n",
    "# your code here"
   ]
  },
  {
   "cell_type": "code",
   "execution_count": null,
   "metadata": {
    "collapsed": false
   },
   "outputs": [],
   "source": [
    "# Add a scalar to a Python list\n",
    "# Hint: seq1 + <number>"
   ]
  },
  {
   "cell_type": "code",
   "execution_count": null,
   "metadata": {
    "collapsed": false
   },
   "outputs": [],
   "source": [
    "# Multiply a scalar to a Python list\n",
    "# Hint: seq1 + <number>"
   ]
  },
  {
   "cell_type": "code",
   "execution_count": null,
   "metadata": {
    "collapsed": false
   },
   "outputs": [],
   "source": [
    "# How about slicing, does Numpy Array work the same as List?"
   ]
  },
  {
   "cell_type": "markdown",
   "metadata": {},
   "source": [
    "But when you try to add a scalar value to a list, you will get an error\n",
    "\n",
    "Compare Numpy Array to Python List operations.  \n",
    "\n",
    "* Do you see any difference in behavior in Operations\n",
    "* How about slicing\n",
    "\n",
    "You will see that Numpy's broadcasting is what makes everything else possible in data analysis with Python"
   ]
  },
  {
   "cell_type": "markdown",
   "metadata": {},
   "source": [
    "#### Matrices\n",
    "\n",
    "* Matrix is like an Array, except that all operations are Matrix operations"
   ]
  },
  {
   "cell_type": "code",
   "execution_count": null,
   "metadata": {
    "collapsed": false
   },
   "outputs": [],
   "source": [
    "# All Matrix objects are multi-dimensional.  See the difference between this and 1-D Arrays in the top\n",
    "mat1 = np.matrix([1, 2, 3])\n",
    "print 'Matrix Shape: ', mat1.shape\n",
    "print mat1"
   ]
  },
  {
   "cell_type": "markdown",
   "metadata": {},
   "source": [
    "# 2-D Matrix\n",
    "mat2 = np.matrix([[1, 2, 3], [4, 5, 6], [7, 8, 9]])\n",
    "print 'Matrix Shape: ', mat2.shape\n",
    "print mat2"
   ]
  },
  {
   "cell_type": "markdown",
   "metadata": {},
   "source": [
    "#### Matrices are like Arrays, but you can do Matrix Manipulations"
   ]
  },
  {
   "cell_type": "code",
   "execution_count": null,
   "metadata": {
    "collapsed": false
   },
   "outputs": [],
   "source": [
    "# Addition is Element wise addition\n",
    "mat1 + mat1"
   ]
  },
  {
   "cell_type": "code",
   "execution_count": null,
   "metadata": {
    "collapsed": false
   },
   "outputs": [],
   "source": [
    "# Matrix Multipliction\n",
    "mat1 * mat2"
   ]
  },
  {
   "cell_type": "markdown",
   "metadata": {},
   "source": [
    "We will mostly be using Numpy Arrays.  Infact you can do matrix operations on Matrices too.  But, just wanted to let you know of the Matrix datatype in Numpy."
   ]
  },
  {
   "cell_type": "markdown",
   "metadata": {},
   "source": [
    "### Numpy Functions"
   ]
  },
  {
   "cell_type": "code",
   "execution_count": null,
   "metadata": {
    "collapsed": false
   },
   "outputs": [],
   "source": [
    "# Create a Numpy array from 1-100\n",
    "np.arange(1, 101)"
   ]
  },
  {
   "cell_type": "code",
   "execution_count": null,
   "metadata": {
    "collapsed": false
   },
   "outputs": [],
   "source": [
    "# Python list from 1 to 100.  Notice the similarities\n",
    "print range(1, 101)"
   ]
  },
  {
   "cell_type": "code",
   "execution_count": null,
   "metadata": {
    "collapsed": false
   },
   "outputs": [],
   "source": [
    "# Enough of similarities.  Let's show some awesomeness\n",
    "# Create 10 elements between 0 and 1 - linearly separated\n",
    "np.linspace(0, 1, 10)"
   ]
  },
  {
   "cell_type": "code",
   "execution_count": null,
   "metadata": {
    "collapsed": false
   },
   "outputs": [],
   "source": [
    "# Now, let's look at some distributions"
   ]
  },
  {
   "cell_type": "code",
   "execution_count": null,
   "metadata": {
    "collapsed": false
   },
   "outputs": [],
   "source": [
    "# Normal Dist\n",
    "# Mean of 1, std of 0.1, 10 elements\n",
    "np.random.normal(1, 0.1, 10)"
   ]
  },
  {
   "cell_type": "code",
   "execution_count": null,
   "metadata": {
    "collapsed": false
   },
   "outputs": [],
   "source": [
    "# Standard Normal Dist\n",
    "np.random.randn(1, 10)"
   ]
  },
  {
   "cell_type": "code",
   "execution_count": null,
   "metadata": {
    "collapsed": false
   },
   "outputs": [],
   "source": [
    "# Look at Other Distribitions - Gamma, binomial etc..\n",
    "# np.random."
   ]
  },
  {
   "cell_type": "markdown",
   "metadata": {},
   "source": [
    "* Remember the imputation of Age we did for Titanic last week with the Mean Age Value?  Now that you know about Numpy distributions, you can impute the age for missing values with Normal Distribution centered on Mean Age and Std dev of Age.  How cool is that."
   ]
  },
  {
   "cell_type": "markdown",
   "metadata": {},
   "source": [
    "## Matplitlib\n",
    "\n",
    "- [Matplotlib](http://matplotlib.org)\n",
    "- [Matplotlib Gallery](http://matplotlib.org/gallery.html)\n",
    "- [Matplotlib Examples](http://matplotlib.org/examples)"
   ]
  },
  {
   "cell_type": "code",
   "execution_count": null,
   "metadata": {
    "collapsed": false
   },
   "outputs": [],
   "source": [
    "# Let's plot the random Normal Distribution\n",
    "\n",
    "# Create a 100 Element Array with mean 1 and std 0.1\n",
    "arr1 = np.random.normal(1, 0.1, 100)"
   ]
  },
  {
   "cell_type": "code",
   "execution_count": null,
   "metadata": {
    "collapsed": false
   },
   "outputs": [],
   "source": [
    "fig, ax = plt.subplots(1, 1)\n",
    "ax.hist(arr1)"
   ]
  },
  {
   "cell_type": "code",
   "execution_count": null,
   "metadata": {
    "collapsed": false
   },
   "outputs": [],
   "source": [
    "# Add a semi-colan if you don't want to see the returned BIN Values in the result\n",
    "fig, ax = plt.subplots(1, 1)\n",
    "ax.hist(arr1, bins=20);"
   ]
  },
  {
   "cell_type": "markdown",
   "metadata": {},
   "source": [
    "#### Exercise: Now, increase the Number of Elements to 10000 and does it change the shape of the distribution?"
   ]
  },
  {
   "cell_type": "code",
   "execution_count": null,
   "metadata": {
    "collapsed": false
   },
   "outputs": [],
   "source": [
    "# Your Code here to draw a distribution of 10000 element Numpy Array"
   ]
  }
 ],
 "metadata": {
  "kernelspec": {
   "display_name": "Python 2",
   "language": "python",
   "name": "python2"
  },
  "language_info": {
   "codemirror_mode": {
    "name": "ipython",
    "version": 2
   },
   "file_extension": ".py",
   "mimetype": "text/x-python",
   "name": "python",
   "nbconvert_exporter": "python",
   "pygments_lexer": "ipython2",
   "version": "2.7.10"
  }
 },
 "nbformat": 4,
 "nbformat_minor": 0
}
